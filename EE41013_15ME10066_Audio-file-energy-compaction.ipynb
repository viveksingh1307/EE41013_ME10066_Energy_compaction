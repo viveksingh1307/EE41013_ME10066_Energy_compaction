import matplotlib.pyplot as plt
from scipy.fftpack import fft, ifft, dct, idct
from scipy.io import wavfile 
import numpy as np
from IPython.display import Audio
import math

fs, audio = wavfile.read("C:\Users\Vivek Singh\Downloads\sound.wav")
print(audio.shape)